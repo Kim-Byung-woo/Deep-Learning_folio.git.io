{
 "cells": [
  {
   "cell_type": "markdown",
   "metadata": {},
   "source": [
    "### 딥러닝을 구동하는 데 필요한 케라스 함수를 불러옵니다."
   ]
  },
  {
   "cell_type": "code",
   "execution_count": 1,
   "metadata": {},
   "outputs": [],
   "source": [
    "from tensorflow.keras.models import Sequential # Sequential 무엇?\n",
    "from tensorflow.keras.layers import Dense # Dense 무엇? -> 밀집층 -> 무엇이 밀집?"
   ]
  },
  {
   "cell_type": "markdown",
   "metadata": {},
   "source": [
    "### 필요한 라이브러리 불러오기"
   ]
  },
  {
   "cell_type": "code",
   "execution_count": 2,
   "metadata": {},
   "outputs": [],
   "source": [
    "import numpy as np\n",
    "import tensorflow as tf"
   ]
  },
  {
   "cell_type": "markdown",
   "metadata": {},
   "source": [
    "### seed값 설정\n",
    "seed 값 설정을 하지 않으면  loss, accuracy의 결과가 실행할때 마다 다르다."
   ]
  },
  {
   "cell_type": "code",
   "execution_count": 3,
   "metadata": {},
   "outputs": [],
   "source": [
    "np.random.seed(3)\n",
    "tf.random.set_seed(3)"
   ]
  },
  {
   "cell_type": "markdown",
   "metadata": {},
   "source": [
    "### 수술 환자 데이터를 불러들입니다."
   ]
  },
  {
   "cell_type": "code",
   "execution_count": 10,
   "metadata": {},
   "outputs": [
    {
     "data": {
      "text/plain": [
       "array([[293.  ,   1.  ,   3.8 ,   2.8 ,   0.  ,   0.  ,   0.  ,   0.  ,\n",
       "          0.  ,   0.  ,  12.  ,   0.  ,   0.  ,   0.  ,   1.  ,   0.  ,\n",
       "         62.  ,   0.  ],\n",
       "       [  1.  ,   2.  ,   2.88,   2.16,   1.  ,   0.  ,   0.  ,   0.  ,\n",
       "          1.  ,   1.  ,  14.  ,   0.  ,   0.  ,   0.  ,   1.  ,   0.  ,\n",
       "         60.  ,   0.  ],\n",
       "       [  8.  ,   2.  ,   3.19,   2.5 ,   1.  ,   0.  ,   0.  ,   0.  ,\n",
       "          1.  ,   0.  ,  11.  ,   0.  ,   0.  ,   1.  ,   1.  ,   0.  ,\n",
       "         66.  ,   1.  ],\n",
       "       [ 14.  ,   2.  ,   3.98,   3.06,   2.  ,   0.  ,   0.  ,   0.  ,\n",
       "          1.  ,   1.  ,  14.  ,   0.  ,   0.  ,   0.  ,   1.  ,   0.  ,\n",
       "         80.  ,   1.  ],\n",
       "       [ 17.  ,   2.  ,   2.21,   1.88,   0.  ,   0.  ,   1.  ,   0.  ,\n",
       "          0.  ,   0.  ,  12.  ,   0.  ,   0.  ,   0.  ,   1.  ,   0.  ,\n",
       "         56.  ,   0.  ],\n",
       "       [ 18.  ,   2.  ,   2.96,   1.67,   0.  ,   0.  ,   0.  ,   0.  ,\n",
       "          0.  ,   0.  ,  12.  ,   0.  ,   0.  ,   0.  ,   1.  ,   0.  ,\n",
       "         61.  ,   0.  ],\n",
       "       [ 35.  ,   2.  ,   2.76,   2.2 ,   1.  ,   0.  ,   0.  ,   0.  ,\n",
       "          1.  ,   0.  ,  11.  ,   0.  ,   0.  ,   0.  ,   0.  ,   0.  ,\n",
       "         76.  ,   0.  ],\n",
       "       [ 42.  ,   2.  ,   3.24,   2.52,   1.  ,   0.  ,   0.  ,   0.  ,\n",
       "          1.  ,   0.  ,  12.  ,   0.  ,   0.  ,   0.  ,   1.  ,   0.  ,\n",
       "         63.  ,   1.  ],\n",
       "       [ 65.  ,   2.  ,   3.15,   2.76,   1.  ,   0.  ,   1.  ,   0.  ,\n",
       "          1.  ,   0.  ,  12.  ,   0.  ,   0.  ,   0.  ,   1.  ,   0.  ,\n",
       "         59.  ,   0.  ],\n",
       "       [111.  ,   2.  ,   4.48,   4.2 ,   0.  ,   0.  ,   0.  ,   0.  ,\n",
       "          0.  ,   0.  ,  12.  ,   0.  ,   0.  ,   0.  ,   1.  ,   0.  ,\n",
       "         55.  ,   0.  ]])"
      ]
     },
     "execution_count": 10,
     "metadata": {},
     "output_type": "execute_result"
    }
   ],
   "source": [
    "Data_set = np.loadtxt(\"./dataset/ThoraricSurgery.csv\", delimiter=\",\")\n",
    "Data_set[:10] # print head"
   ]
  },
  {
   "cell_type": "code",
   "execution_count": 11,
   "metadata": {},
   "outputs": [
    {
     "name": "stdout",
     "output_type": "stream",
     "text": [
      "(470, 18)\n"
     ]
    }
   ],
   "source": [
    "print(Data_set.shape)"
   ]
  },
  {
   "cell_type": "markdown",
   "metadata": {},
   "source": [
    "### 환자의 기록과 수술 결과를 X와 Y로 구분하여 저장합니다."
   ]
  },
  {
   "cell_type": "code",
   "execution_count": 14,
   "metadata": {},
   "outputs": [],
   "source": [
    "X = Data_set[:, 0:17]\n",
    "Y = Data_set[:, 17]"
   ]
  },
  {
   "cell_type": "markdown",
   "metadata": {},
   "source": [
    "### 딥러닝 구조를 결정(모델을 설정하고 실행)"
   ]
  },
  {
   "cell_type": "code",
   "execution_count": 12,
   "metadata": {},
   "outputs": [],
   "source": [
    "model = Sequential() # Sequential() 함수는 딥러닝의 구조를 한 층 한 층 쉽게 쌓아올릴 수 있게 해 줍니다.\n",
    "model.add(Dense(30, input_dim=17, activation='relu')) # 30 -> 출력 노드 개수, input_dim -> 입력 노드 개수, activation -> 활성함수\n",
    "model.add(Dense(1, activation='sigmoid')) # 1 -> 출력층 노드 개수,  activation -> 활성함수"
   ]
  },
  {
   "cell_type": "markdown",
   "metadata": {},
   "source": [
    "### 딥러닝 실행\n",
    "loss: 손실값 <br>\n",
    "accuracy: 정확도(0.8760 이면 87.6%의 예측 성공률을 가진다.)"
   ]
  },
  {
   "cell_type": "code",
   "execution_count": 16,
   "metadata": {},
   "outputs": [
    {
     "name": "stdout",
     "output_type": "stream",
     "text": [
      "Epoch 1/100\n",
      "47/47 [==============================] - 0s 499us/step - loss: 0.1231 - accuracy: 0.8596\n",
      "Epoch 2/100\n",
      "47/47 [==============================] - 0s 465us/step - loss: 0.1279 - accuracy: 0.8447\n",
      "Epoch 3/100\n",
      "47/47 [==============================] - 0s 444us/step - loss: 0.1229 - accuracy: 0.8617\n",
      "Epoch 4/100\n",
      "47/47 [==============================] - 0s 490us/step - loss: 0.1245 - accuracy: 0.8532\n",
      "Epoch 5/100\n",
      "47/47 [==============================] - 0s 436us/step - loss: 0.1180 - accuracy: 0.8574\n",
      "Epoch 6/100\n",
      "47/47 [==============================] - 0s 454us/step - loss: 0.1164 - accuracy: 0.8532\n",
      "Epoch 7/100\n",
      "47/47 [==============================] - 0s 446us/step - loss: 0.1174 - accuracy: 0.8511\n",
      "Epoch 8/100\n",
      "47/47 [==============================] - 0s 442us/step - loss: 0.1198 - accuracy: 0.8638\n",
      "Epoch 9/100\n",
      "47/47 [==============================] - 0s 428us/step - loss: 0.1236 - accuracy: 0.8596\n",
      "Epoch 10/100\n",
      "47/47 [==============================] - 0s 457us/step - loss: 0.1211 - accuracy: 0.8596\n",
      "Epoch 11/100\n",
      "47/47 [==============================] - 0s 441us/step - loss: 0.1187 - accuracy: 0.8532\n",
      "Epoch 12/100\n",
      "47/47 [==============================] - 0s 450us/step - loss: 0.1194 - accuracy: 0.8617\n",
      "Epoch 13/100\n",
      "47/47 [==============================] - 0s 455us/step - loss: 0.1245 - accuracy: 0.8596\n",
      "Epoch 14/100\n",
      "47/47 [==============================] - 0s 441us/step - loss: 0.1263 - accuracy: 0.8511\n",
      "Epoch 15/100\n",
      "47/47 [==============================] - 0s 457us/step - loss: 0.1239 - accuracy: 0.8553\n",
      "Epoch 16/100\n",
      "47/47 [==============================] - 0s 434us/step - loss: 0.1346 - accuracy: 0.8553\n",
      "Epoch 17/100\n",
      "47/47 [==============================] - 0s 432us/step - loss: 0.1266 - accuracy: 0.8617\n",
      "Epoch 18/100\n",
      "47/47 [==============================] - 0s 452us/step - loss: 0.1183 - accuracy: 0.8574\n",
      "Epoch 19/100\n",
      "47/47 [==============================] - 0s 440us/step - loss: 0.1261 - accuracy: 0.8574\n",
      "Epoch 20/100\n",
      "47/47 [==============================] - 0s 448us/step - loss: 0.1302 - accuracy: 0.8617\n",
      "Epoch 21/100\n",
      "47/47 [==============================] - 0s 451us/step - loss: 0.1185 - accuracy: 0.8660\n",
      "Epoch 22/100\n",
      "47/47 [==============================] - 0s 411us/step - loss: 0.1205 - accuracy: 0.8511\n",
      "Epoch 23/100\n",
      "47/47 [==============================] - 0s 494us/step - loss: 0.1216 - accuracy: 0.8596\n",
      "Epoch 24/100\n",
      "47/47 [==============================] - 0s 432us/step - loss: 0.1258 - accuracy: 0.8553\n",
      "Epoch 25/100\n",
      "47/47 [==============================] - 0s 484us/step - loss: 0.1304 - accuracy: 0.8596\n",
      "Epoch 26/100\n",
      "47/47 [==============================] - 0s 434us/step - loss: 0.1187 - accuracy: 0.8638\n",
      "Epoch 27/100\n",
      "47/47 [==============================] - 0s 442us/step - loss: 0.1219 - accuracy: 0.8617\n",
      "Epoch 28/100\n",
      "47/47 [==============================] - 0s 455us/step - loss: 0.1196 - accuracy: 0.8617\n",
      "Epoch 29/100\n",
      "47/47 [==============================] - 0s 470us/step - loss: 0.1229 - accuracy: 0.8660\n",
      "Epoch 30/100\n",
      "47/47 [==============================] - 0s 460us/step - loss: 0.1269 - accuracy: 0.8596\n",
      "Epoch 31/100\n",
      "47/47 [==============================] - 0s 434us/step - loss: 0.1179 - accuracy: 0.8511\n",
      "Epoch 32/100\n",
      "47/47 [==============================] - 0s 477us/step - loss: 0.1164 - accuracy: 0.8596\n",
      "Epoch 33/100\n",
      "47/47 [==============================] - 0s 440us/step - loss: 0.1201 - accuracy: 0.8702\n",
      "Epoch 34/100\n",
      "47/47 [==============================] - 0s 504us/step - loss: 0.1178 - accuracy: 0.8489\n",
      "Epoch 35/100\n",
      "47/47 [==============================] - 0s 478us/step - loss: 0.1295 - accuracy: 0.8553\n",
      "Epoch 36/100\n",
      "47/47 [==============================] - 0s 458us/step - loss: 0.1125 - accuracy: 0.8617\n",
      "Epoch 37/100\n",
      "47/47 [==============================] - 0s 475us/step - loss: 0.1203 - accuracy: 0.8638\n",
      "Epoch 38/100\n",
      "47/47 [==============================] - 0s 477us/step - loss: 0.1196 - accuracy: 0.8596\n",
      "Epoch 39/100\n",
      "47/47 [==============================] - 0s 455us/step - loss: 0.1171 - accuracy: 0.8596\n",
      "Epoch 40/100\n",
      "47/47 [==============================] - 0s 434us/step - loss: 0.1187 - accuracy: 0.8681\n",
      "Epoch 41/100\n",
      "47/47 [==============================] - 0s 434us/step - loss: 0.1247 - accuracy: 0.8574\n",
      "Epoch 42/100\n",
      "47/47 [==============================] - 0s 458us/step - loss: 0.1188 - accuracy: 0.8574\n",
      "Epoch 43/100\n",
      "47/47 [==============================] - 0s 453us/step - loss: 0.1155 - accuracy: 0.8638\n",
      "Epoch 44/100\n",
      "47/47 [==============================] - 0s 470us/step - loss: 0.1179 - accuracy: 0.8617\n",
      "Epoch 45/100\n",
      "47/47 [==============================] - 0s 484us/step - loss: 0.1198 - accuracy: 0.8596\n",
      "Epoch 46/100\n",
      "47/47 [==============================] - 0s 455us/step - loss: 0.1138 - accuracy: 0.8553\n",
      "Epoch 47/100\n",
      "47/47 [==============================] - 0s 434us/step - loss: 0.1186 - accuracy: 0.8617\n",
      "Epoch 48/100\n",
      "47/47 [==============================] - 0s 444us/step - loss: 0.1161 - accuracy: 0.8638\n",
      "Epoch 49/100\n",
      "47/47 [==============================] - 0s 436us/step - loss: 0.1150 - accuracy: 0.8596\n",
      "Epoch 50/100\n",
      "47/47 [==============================] - 0s 464us/step - loss: 0.1144 - accuracy: 0.8617\n",
      "Epoch 51/100\n",
      "47/47 [==============================] - 0s 455us/step - loss: 0.1125 - accuracy: 0.8723\n",
      "Epoch 52/100\n",
      "47/47 [==============================] - 0s 455us/step - loss: 0.1130 - accuracy: 0.8617\n",
      "Epoch 53/100\n",
      "47/47 [==============================] - 0s 456us/step - loss: 0.1145 - accuracy: 0.8596\n",
      "Epoch 54/100\n",
      "47/47 [==============================] - 0s 455us/step - loss: 0.1159 - accuracy: 0.8681\n",
      "Epoch 55/100\n",
      "47/47 [==============================] - 0s 455us/step - loss: 0.1165 - accuracy: 0.8638\n",
      "Epoch 56/100\n",
      "47/47 [==============================] - 0s 455us/step - loss: 0.1133 - accuracy: 0.8596\n",
      "Epoch 57/100\n",
      "47/47 [==============================] - 0s 477us/step - loss: 0.1182 - accuracy: 0.8596\n",
      "Epoch 58/100\n",
      "47/47 [==============================] - 0s 456us/step - loss: 0.1233 - accuracy: 0.8596\n",
      "Epoch 59/100\n",
      "47/47 [==============================] - 0s 455us/step - loss: 0.1149 - accuracy: 0.8574\n",
      "Epoch 60/100\n",
      "47/47 [==============================] - 0s 444us/step - loss: 0.1140 - accuracy: 0.8638\n",
      "Epoch 61/100\n",
      "47/47 [==============================] - 0s 477us/step - loss: 0.1167 - accuracy: 0.8638\n",
      "Epoch 62/100\n",
      "47/47 [==============================] - 0s 455us/step - loss: 0.1175 - accuracy: 0.8702\n",
      "Epoch 63/100\n",
      "47/47 [==============================] - 0s 474us/step - loss: 0.1141 - accuracy: 0.8574\n",
      "Epoch 64/100\n",
      "47/47 [==============================] - 0s 460us/step - loss: 0.1211 - accuracy: 0.8660\n",
      "Epoch 65/100\n",
      "47/47 [==============================] - 0s 434us/step - loss: 0.1108 - accuracy: 0.8723\n",
      "Epoch 66/100\n",
      "47/47 [==============================] - 0s 477us/step - loss: 0.1160 - accuracy: 0.8574\n",
      "Epoch 67/100\n",
      "47/47 [==============================] - 0s 455us/step - loss: 0.1133 - accuracy: 0.8681\n",
      "Epoch 68/100\n",
      "47/47 [==============================] - 0s 449us/step - loss: 0.1219 - accuracy: 0.8660\n",
      "Epoch 69/100\n",
      "47/47 [==============================] - 0s 456us/step - loss: 0.1235 - accuracy: 0.8638\n",
      "Epoch 70/100\n",
      "47/47 [==============================] - 0s 434us/step - loss: 0.1241 - accuracy: 0.8532\n",
      "Epoch 71/100\n",
      "47/47 [==============================] - 0s 448us/step - loss: 0.1188 - accuracy: 0.8660\n",
      "Epoch 72/100\n",
      "47/47 [==============================] - 0s 456us/step - loss: 0.1200 - accuracy: 0.8681\n",
      "Epoch 73/100\n",
      "47/47 [==============================] - 0s 455us/step - loss: 0.1198 - accuracy: 0.8660\n",
      "Epoch 74/100\n",
      "47/47 [==============================] - 0s 434us/step - loss: 0.1150 - accuracy: 0.8723\n",
      "Epoch 75/100\n",
      "47/47 [==============================] - 0s 434us/step - loss: 0.1119 - accuracy: 0.8745\n",
      "Epoch 76/100\n",
      "47/47 [==============================] - 0s 455us/step - loss: 0.1220 - accuracy: 0.8596\n",
      "Epoch 77/100\n",
      "47/47 [==============================] - 0s 455us/step - loss: 0.1194 - accuracy: 0.8702\n",
      "Epoch 78/100\n",
      "47/47 [==============================] - 0s 499us/step - loss: 0.1157 - accuracy: 0.8638\n",
      "Epoch 79/100\n",
      "47/47 [==============================] - 0s 477us/step - loss: 0.1125 - accuracy: 0.8681\n",
      "Epoch 80/100\n",
      "47/47 [==============================] - 0s 477us/step - loss: 0.1122 - accuracy: 0.8638\n",
      "Epoch 81/100\n",
      "47/47 [==============================] - 0s 455us/step - loss: 0.1191 - accuracy: 0.8660\n",
      "Epoch 82/100\n",
      "47/47 [==============================] - 0s 455us/step - loss: 0.1171 - accuracy: 0.8723\n",
      "Epoch 83/100\n",
      "47/47 [==============================] - 0s 564us/step - loss: 0.1171 - accuracy: 0.8660\n",
      "Epoch 84/100\n",
      "47/47 [==============================] - 0s 542us/step - loss: 0.1221 - accuracy: 0.8617\n",
      "Epoch 85/100\n",
      "47/47 [==============================] - 0s 477us/step - loss: 0.1274 - accuracy: 0.8596\n",
      "Epoch 86/100\n",
      "47/47 [==============================] - 0s 461us/step - loss: 0.1210 - accuracy: 0.8596\n",
      "Epoch 87/100\n",
      "47/47 [==============================] - 0s 455us/step - loss: 0.1171 - accuracy: 0.8681\n",
      "Epoch 88/100\n",
      "47/47 [==============================] - 0s 452us/step - loss: 0.1123 - accuracy: 0.8681\n",
      "Epoch 89/100\n",
      "47/47 [==============================] - 0s 434us/step - loss: 0.1158 - accuracy: 0.8574\n",
      "Epoch 90/100\n",
      "47/47 [==============================] - 0s 434us/step - loss: 0.1192 - accuracy: 0.8617\n",
      "Epoch 91/100\n",
      "47/47 [==============================] - 0s 455us/step - loss: 0.1182 - accuracy: 0.8617\n",
      "Epoch 92/100\n",
      "47/47 [==============================] - 0s 434us/step - loss: 0.1175 - accuracy: 0.8660\n",
      "Epoch 93/100\n",
      "47/47 [==============================] - 0s 455us/step - loss: 0.1127 - accuracy: 0.8681\n",
      "Epoch 94/100\n",
      "47/47 [==============================] - 0s 455us/step - loss: 0.1153 - accuracy: 0.8681\n",
      "Epoch 95/100\n",
      "47/47 [==============================] - 0s 455us/step - loss: 0.1111 - accuracy: 0.8745\n",
      "Epoch 96/100\n",
      "47/47 [==============================] - 0s 443us/step - loss: 0.1135 - accuracy: 0.8723\n",
      "Epoch 97/100\n",
      "47/47 [==============================] - 0s 465us/step - loss: 0.1164 - accuracy: 0.8532\n",
      "Epoch 98/100\n",
      "47/47 [==============================] - 0s 434us/step - loss: 0.1179 - accuracy: 0.8617\n",
      "Epoch 99/100\n",
      "47/47 [==============================] - 0s 467us/step - loss: 0.1216 - accuracy: 0.8681\n",
      "Epoch 100/100\n",
      "47/47 [==============================] - 0s 455us/step - loss: 0.1125 - accuracy: 0.8660\n",
      "15/15 [==============================] - 0s 485us/step - loss: 0.1059 - accuracy: 0.8766\n",
      "\n",
      " Accuracy: 0.8766\n"
     ]
    }
   ],
   "source": [
    "model.compile(loss='mean_squared_error', optimizer='adam', metrics=['accuracy']) # loss -> 손실 함수, optimizer-> 학습방식, metrics-> 평가지표\n",
    "model.fit(X, Y, epochs=100, batch_size=10) # epochs-> 학습횟수, batch_size -> 학습할 샘플의 그룹수\n",
    "print(\"\\n Accuracy: %.4f\" % (model.evaluate(X, Y)[1])) # (model.evaluate(X, Y)) -> loss, accuracy 반환"
   ]
  },
  {
   "cell_type": "code",
   "execution_count": null,
   "metadata": {},
   "outputs": [],
   "source": []
  },
  {
   "cell_type": "code",
   "execution_count": null,
   "metadata": {},
   "outputs": [],
   "source": []
  },
  {
   "cell_type": "code",
   "execution_count": null,
   "metadata": {},
   "outputs": [],
   "source": []
  }
 ],
 "metadata": {
  "kernelspec": {
   "display_name": "Python 3",
   "language": "python",
   "name": "python3"
  },
  "language_info": {
   "codemirror_mode": {
    "name": "ipython",
    "version": 3
   },
   "file_extension": ".py",
   "mimetype": "text/x-python",
   "name": "python",
   "nbconvert_exporter": "python",
   "pygments_lexer": "ipython3",
   "version": "3.8.5"
  }
 },
 "nbformat": 4,
 "nbformat_minor": 4
}
